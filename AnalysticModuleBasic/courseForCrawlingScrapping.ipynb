{
 "cells": [
  {
   "cell_type": "markdown",
   "source": [
    "# 데이터 다운로드 하기\n"
   ],
   "metadata": {}
  },
  {
   "cell_type": "code",
   "execution_count": 2,
   "source": [
    "import urllib.request\n",
    "\n",
    "#  URL 과 저장 경로 지정\n",
    "url = \"http://uta.pw/shodou/img/28/214.png\"\n",
    "savename = \"./test.png\"\n",
    "\n",
    "# 다운로드 하기\n",
    "urllib.request.urlretrieve(url,savename)\n",
    "print(\"저장 되었습니다!\")"
   ],
   "outputs": [
    {
     "output_type": "stream",
     "name": "stdout",
     "text": [
      "저장 되었습니다!\n"
     ]
    }
   ],
   "metadata": {}
  },
  {
   "cell_type": "code",
   "execution_count": null,
   "source": [
    "import urllib.request\n",
    "\n",
    "#  URL 과 저장 경로 지정\n",
    "url = \"http://uta.pw/shodou/img/28/214.png\"\n",
    "savename = \"./test.png\"\n",
    "\n",
    "# 다운로드 하기\n",
    "\n",
    "mem = urllib.request.urlopen(url).read()\n",
    "\n",
    "#  파일로 저장하기 \n",
    "with open(savename, mode=\"wb\") as f:\n",
    "    f.write(mem)\n",
    "    print(\"저장 완료! \")\n"
   ],
   "outputs": [],
   "metadata": {}
  },
  {
   "cell_type": "markdown",
   "source": [
    "# BeautifulSoup -> Scrapping 하기\n"
   ],
   "metadata": {}
  },
  {
   "cell_type": "code",
   "execution_count": 6,
   "source": [
    "#  기본 사용법\n",
    "from bs4 import BeautifulSoup\n",
    "\n",
    "# HTML Sample\n",
    "\n",
    "html = \"\"\"\n",
    "    <html>\n",
    "        <body>\n",
    "            <h1>Header</h1>\n",
    "            <p> Line 1을 서술 </p>\n",
    "        </body>\n",
    "    </html>\n",
    "\"\"\"\n",
    "\n",
    "# HTML 분석\n",
    "soup = BeautifulSoup(html , 'html.parser')\n",
    "# print(soup)\n",
    "\n",
    "# 원하는 부분 추출하기\n",
    "h1 = soup.html.body.h1\n",
    "p1 = soup.html.body.p\n",
    "print(h1)\n",
    "\n",
    "# Text 만 출력\n",
    "print(\"h1=\" , h1.string)\n",
    "print(\"h1=\" , h1.text)\n",
    "print(\"p1=\" , p1.string)\n",
    "print(\"p1=\" , p1.text)\n",
    "\n"
   ],
   "outputs": [
    {
     "output_type": "stream",
     "name": "stdout",
     "text": [
      "<h1>Header</h1>\n",
      "h1= Header\n"
     ]
    }
   ],
   "metadata": {}
  },
  {
   "cell_type": "code",
   "execution_count": 11,
   "source": [
    "# id로 요소를 추출하기\n",
    "\n",
    "from bs4 import BeautifulSoup\n",
    "\n",
    "# HTML sample\n",
    "\n",
    "html = \"\"\"\n",
    "    <html>\n",
    "        <body>\n",
    "            <h1 id=\"title\">Header </h1>\n",
    "            <p id=\"body\">Line 1 description </p>\n",
    "            <span class=\"whatever\">what the fucl?</span>\n",
    "        </body>\n",
    "    </html>\n",
    "\"\"\"\n",
    "\n",
    "# HTML analystic\n",
    "soup = BeautifulSoup(html , \"html.parser\")\n",
    "\n",
    "# extract where i want\n",
    "\n",
    "title = soup.find(id= \"title\")\n",
    "body = soup.find(id=\"body\")\n",
    "\n",
    "print(title)\n",
    "print(body)\n",
    "\n",
    "# text 만 출력\n",
    "print(\"span = \", soup.find(\"span\" , {\"class\" : \"whatever\"}).text)\n"
   ],
   "outputs": [
    {
     "output_type": "stream",
     "name": "stdout",
     "text": [
      "<h1 id=\"title\">Header </h1>\n",
      "<p id=\"body\">Line 1 description </p>\n",
      "span =  what the fucl?\n"
     ]
    }
   ],
   "metadata": {}
  },
  {
   "cell_type": "code",
   "execution_count": 15,
   "source": [
    "# 여러개의 요소 추출하기\n",
    "\n",
    "from bs4 import BeautifulSoup\n",
    "\n",
    "html =  \"\"\"\n",
    "    <html>\n",
    "        <body>\n",
    "            <ul>\n",
    "                <li><a href=\"http://www.naver.com\">naver</a></li>\n",
    "                <li><a href=\"http://www.daum.net\">daum</a></li>\n",
    "            </ul>\n",
    "        </body>\n",
    "    </html>\n",
    "    \n",
    "\n",
    "\"\"\"\n",
    "\n",
    "# HTML analystic\n",
    "\n",
    "soup = BeautifulSoup(html , 'html.parser')\n",
    "links = soup.find_all('a')\n",
    "\n",
    "# 링크 목록 출력 하기\n",
    "for link in links:\n",
    "    #  해당하는 속성 들고 오기\n",
    "    hrefTag = link.attrs['href']\n",
    "    print(hrefTag)\n",
    "    \n"
   ],
   "outputs": [
    {
     "output_type": "stream",
     "name": "stdout",
     "text": [
      "http://www.naver.com\n",
      "http://www.daum.net\n"
     ]
    }
   ],
   "metadata": {}
  },
  {
   "cell_type": "markdown",
   "source": [
    "http  -> http://www.weather.go.kr/weather/forecast/mid-term-rss3.jsp?stnId=109"
   ],
   "metadata": {}
  },
  {
   "cell_type": "code",
   "execution_count": 34,
   "source": [
    "# 기상청 자료 활용하기\n",
    "\n",
    "from bs4 import BeautifulSoup\n",
    "import urllib.request as req\n",
    "\n",
    "url = \"http://www.weather.go.kr/weather/forecast/mid-term-rss3.jsp?stnId=109\"\n",
    "\n",
    "# DATA 가져오기\n",
    "\n",
    "res = req.urlopen(url)\n",
    "soup = BeautifulSoup(res , \"html.parser\")\n",
    "\n",
    "# 원하는 데이터 추출 하기\n",
    "title = soup.find(\"title\").string\n",
    "info = soup.find(\"wf\").string\n",
    "\n",
    "infoSorts = info.split(\"<br />\")\n",
    "\n",
    "for infoSort in infoSorts:\n",
    "    print(infoSort)\n",
    "\n"
   ],
   "outputs": [
    {
     "output_type": "stream",
     "name": "stdout",
     "text": [
      "○ (강수) 16일(금) 오후에는 소나기가 내리는 곳이 있겠고, 19일(월) 오후에는 비가 내리겠습니다.\n",
      "○ (기온) 이번 예보기간 아침최저기온은 23~26도, 낮최고기온은 29~34도로 어제(12일, 아침최저기온 20~24도, 낮최고기온 30~33도)와 비슷하거나 조금 높겠습니다.\n",
      "○ (해상) 서해중부해상의 물결은 0.5~2.0m로 일겠습니다.\n",
      "○ (주말전망) 17일(토)~18일(일)은 구름많겠고, 아침 기온은 23~24도, 낮 기온은 29~33도가 되겠습니다\n",
      "\n",
      "* 이번 예보기간 동안 내륙에는 낮최고기온이 33도 내외, 아침최저기온이 25도 내외로 오르는 곳이 많아 매우 무덥겠으니, 건강관리에 각별히 유의하기 바랍니다.\n",
      "* 또한, 북태평양고기압 위치에 따른 강수 변동성이 크겠으니, 앞으로 발표되는 기상정보를 참고하기 바랍니다.\n"
     ]
    }
   ],
   "metadata": {}
  },
  {
   "cell_type": "markdown",
   "source": [
    "# CSS 선택자 사용하기\n",
    "\n",
    "soup.select_one() : css 선택자로 요소 하나를 추출\n",
    "soup.select() : css 선택자로 요소 여러개를 리스트로 추출\n",
    "\n",
    "\n"
   ],
   "metadata": {}
  },
  {
   "cell_type": "code",
   "execution_count": 38,
   "source": [
    "from bs4 import BeautifulSoup\n",
    "\n",
    "html = \"\"\"\n",
    "    <html>\n",
    "        <body>\n",
    "            <div id= \"meigen\">\n",
    "                <h1>위키 북스</h1>\n",
    "                <ul class=\"items\">\n",
    "                    <li>유니티 게임 이펙트 입문서</li>\n",
    "                    <li>스위프트로 시작하는 아이폰 앱 개발 교과서</li>\n",
    "                    <li>모던 웹사이트 디자인의 정석</li>\n",
    "                </ul>\n",
    "            </div>\n",
    "        </body>\n",
    "    </html>\n",
    "\"\"\"\n",
    "\n",
    "soup = BeautifulSoup(html , \"html.parser\")\n",
    "\n",
    "# 필요한 부분 css 로 추출하기\n",
    "# title 부분 추출하기\n",
    "\n",
    "\n",
    "# \"id : #\", \"class :.\"> : 자손,\" \": 후손\"\n",
    "h1 = soup.select_one(\"div#meigen > h1\")\n",
    "print(h1)\n",
    "\n",
    "\n",
    "\n"
   ],
   "outputs": [
    {
     "output_type": "stream",
     "name": "stdout",
     "text": [
      "<h1>위키 북스</h1>\n"
     ]
    }
   ],
   "metadata": {}
  },
  {
   "cell_type": "code",
   "execution_count": 42,
   "source": [
    "# 목록 부분 추출하기\n",
    "li_lists = soup.select(\"div#meigen > ul.items > li\")\n",
    "# print(li_lists)\n",
    "\n",
    "for li_list in li_lists:\n",
    "    print(li_list.string)"
   ],
   "outputs": [
    {
     "output_type": "stream",
     "name": "stdout",
     "text": [
      "유니티 게임 이펙트 입문서\n",
      "스위프트로 시작하는 아이폰 앱 개발 교과서\n",
      "모던 웹사이트 디자인의 정석\n"
     ]
    }
   ],
   "metadata": {}
  },
  {
   "cell_type": "code",
   "execution_count": 50,
   "source": [
    "# 네이버 금융에서 환율 정보 추출 하기\n",
    "\n",
    "import urllib.request as req\n",
    "from bs4 import BeautifulSoup\n",
    "\n",
    "url = \"https://finance.naver.com/marketindex/\"\n",
    "\n",
    "request1 = req(url)\n",
    "request1.add_header('Accept-Encoding' , 'utf-8')\n",
    "\n",
    "res = req.urlopen(request1)\n",
    "\n",
    "\n",
    "soup = BeautifulSoup(res , \"html.parser\" )\n",
    "\n",
    "title = soup.select(\"h3.h_lst\")\n",
    "\n",
    "print(title)\n",
    "\n",
    "\n",
    "\n"
   ],
   "outputs": [
    {
     "output_type": "error",
     "ename": "TypeError",
     "evalue": "'module' object is not callable",
     "traceback": [
      "\u001b[0;31m---------------------------------------------------------------------------\u001b[0m",
      "\u001b[0;31mTypeError\u001b[0m                                 Traceback (most recent call last)",
      "\u001b[0;32m/var/folders/l4/xhprvkrn54j1zqk2zn3lf7k40000gn/T/ipykernel_95201/2751764938.py\u001b[0m in \u001b[0;36m<module>\u001b[0;34m\u001b[0m\n\u001b[1;32m      6\u001b[0m \u001b[0murl\u001b[0m \u001b[0;34m=\u001b[0m \u001b[0;34m\"https://finance.naver.com/marketindex/\"\u001b[0m\u001b[0;34m\u001b[0m\u001b[0;34m\u001b[0m\u001b[0m\n\u001b[1;32m      7\u001b[0m \u001b[0;34m\u001b[0m\u001b[0m\n\u001b[0;32m----> 8\u001b[0;31m \u001b[0mrequest1\u001b[0m \u001b[0;34m=\u001b[0m \u001b[0mreq\u001b[0m\u001b[0;34m(\u001b[0m\u001b[0murl\u001b[0m\u001b[0;34m)\u001b[0m\u001b[0;34m\u001b[0m\u001b[0;34m\u001b[0m\u001b[0m\n\u001b[0m\u001b[1;32m      9\u001b[0m \u001b[0mrequest1\u001b[0m\u001b[0;34m.\u001b[0m\u001b[0madd_header\u001b[0m\u001b[0;34m(\u001b[0m\u001b[0;34m'Accept-Encoding'\u001b[0m \u001b[0;34m,\u001b[0m \u001b[0;34m'utf-8'\u001b[0m\u001b[0;34m)\u001b[0m\u001b[0;34m\u001b[0m\u001b[0;34m\u001b[0m\u001b[0m\n\u001b[1;32m     10\u001b[0m \u001b[0;34m\u001b[0m\u001b[0m\n",
      "\u001b[0;31mTypeError\u001b[0m: 'module' object is not callable"
     ]
    }
   ],
   "metadata": {}
  },
  {
   "cell_type": "code",
   "execution_count": 61,
   "source": [
    "prices = soup.select(\"div.head_info > span.value\")\n",
    "price_array = []\n",
    "country_array = [\"미국 : \" , \"일본 : \" , \"유럽연합 : \" , \"중국 : \"]\n",
    "for price in prices[:4]:\n",
    "    price_array.append(price.string)\n",
    "\n",
    "for country , price in enumerate(country):\n",
    "    print(country)\n",
    "\n"
   ],
   "outputs": [
    {
     "output_type": "stream",
     "name": "stdout",
     "text": [
      "['1,143.30', '1,035.64', '1,357.61', '176.72']\n"
     ]
    }
   ],
   "metadata": {}
  }
 ],
 "metadata": {
  "language_info": {
   "name": "python"
  }
 },
 "nbformat": 4,
 "nbformat_minor": 5
}